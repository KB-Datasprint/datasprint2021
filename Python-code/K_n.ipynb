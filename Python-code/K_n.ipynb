{
 "cells": [
  {
   "cell_type": "code",
   "execution_count": null,
   "metadata": {},
   "outputs": [],
   "source": [
    "import pandas as pd\n",
    "import os\n",
    "import numpy as np\n",
    "import matplotlib.pyplot as plt\n",
    "import seaborn as sns\n",
    "%matplotlib inline\n",
    "%config InlineBackend.figure_format = 'png'\n",
    "sns.set()"
   ]
  },
  {
   "cell_type": "markdown",
   "metadata": {},
   "source": [
    "# Hent data"
   ]
  },
  {
   "cell_type": "code",
   "execution_count": null,
   "metadata": {
    "tags": []
   },
   "outputs": [],
   "source": [
    "path = '/work/Common-files/Data/Datasæt2/whole_set/whole_set.pkl' # Sti til datafil\n",
    "\n",
    "df = pd.read_pickle(path)"
   ]
  },
  {
   "cell_type": "code",
   "execution_count": null,
   "metadata": {
    "tags": []
   },
   "outputs": [],
   "source": [
    "df.head(50)"
   ]
  },
  {
   "cell_type": "markdown",
   "metadata": {},
   "source": [
    "# Ministerposter i relation til køn"
   ]
  },
  {
   "cell_type": "markdown",
   "metadata": {},
   "source": [
    "Vi kan undersøge fordeling af roler, f.eks. ministerposter, i relation til køn."
   ]
  },
  {
   "cell_type": "code",
   "execution_count": null,
   "metadata": {
    "tags": []
   },
   "outputs": [],
   "source": [
    "session = '20091'\n",
    "gender = 'Male'"
   ]
  },
  {
   "cell_type": "code",
   "execution_count": null,
   "metadata": {
    "tags": []
   },
   "outputs": [],
   "source": [
    "df_select_session = df[df['Session'] == session]\n",
    "\n",
    "select_gender = df_select_session[(df_select_session['Gender'] == gender)]\n",
    "\n",
    "statistic_male = pd.DataFrame(select_gender.groupby('Role')['Name'].nunique().reset_index().rename(columns = {'Name':'Count'}))\n",
    "\n",
    "statistic_male"
   ]
  },
  {
   "cell_type": "code",
   "execution_count": null,
   "metadata": {
    "tags": []
   },
   "outputs": [],
   "source": [
    "session = '20091'\n",
    "gender = 'Female'"
   ]
  },
  {
   "cell_type": "code",
   "execution_count": null,
   "metadata": {
    "tags": []
   },
   "outputs": [],
   "source": [
    "df_select_session = df[df['Session'] == session]\n",
    "\n",
    "select_gender = df_select_session[(df_select_session['Gender'] == gender)]\n",
    "\n",
    "statistic_female = pd.DataFrame(select_gender.groupby('Role')['Name'].nunique().reset_index().rename(columns = {'Name':'Count'}))\n",
    "\n",
    "statistic_female"
   ]
  },
  {
   "cell_type": "code",
   "execution_count": null,
   "metadata": {
    "tags": []
   },
   "outputs": [],
   "source": [
    "sns.catplot(y='Role', x='Count', kind='bar', data=statistic_male)\n",
    "\n",
    "sns.catplot(y='Role', x='Count', kind='bar', data=statistic_female)"
   ]
  },
  {
   "cell_type": "markdown",
   "metadata": {},
   "source": [
    "# Hvor lang tid taler de i folketinget?\n",
    "Datasættet indeholder kolonnen 'Time', som vi kan brug til at belyse, hvor lang tid de taler i folketinget."
   ]
  },
  {
   "cell_type": "code",
   "execution_count": null,
   "metadata": {
    "tags": []
   },
   "outputs": [],
   "source": [
    "df['Time'].describe()"
   ]
  },
  {
   "cell_type": "markdown",
   "metadata": {},
   "source": [
    "Vi kan undersøge om mænd og kvinder taler lige lang tid, når de er på talerstolen i folketinget, eller om det ene køn taler længere end det andet køn?"
   ]
  },
  {
   "cell_type": "markdown",
   "metadata": {},
   "source": [
    "Nedenfor udvælger vi på første linje et datasæt, der består i data, der vedr. kvinder.\n",
    "\n",
    "På anden linje bruger vi .describe() til at hente statistiske data ud fra kolonnen 'Time'."
   ]
  },
  {
   "cell_type": "code",
   "execution_count": null,
   "metadata": {
    "tags": []
   },
   "outputs": [],
   "source": [
    "male_df = df[df['Gender'] == 'Female']\n",
    "male_df['Time'].describe()"
   ]
  },
  {
   "cell_type": "markdown",
   "metadata": {},
   "source": [
    "I koden nedenfor tager vi højde for at medlemmerne har forskellige roller. Nogle er medlemmer, mens andre er formand. Rollerne er beskrevet i kolonnen 'Role'. Set ud fra at forpersoner og ministre i folketinget både holder meget lange og meget korte taler, så giver det mening at ekskludere disse fra undersøgelsen og i stedet alene fokusere på almindelige medlemmer.  \n",
    "\n",
    "Koden er også et eksemple på, hvordan man kan udvælge data baseret på flere parametre. Det gør man ved at inddrage parenteser og den boolske operator '&'.\n",
    "\n",
    "I variablen 'male_mp' får vi gemt en dataframe, der indeholder data om almindelige mandlige medlemmer.\n",
    "Igen benytter vi .describe() til at hente de statistiske data."
   ]
  },
  {
   "cell_type": "code",
   "execution_count": null,
   "metadata": {
    "tags": []
   },
   "outputs": [],
   "source": [
    "male_mp = df[ (df['Gender'] == 'Male') & (df['Role'] == 'medlem') ]\n",
    "male_mp['Time'].describe()"
   ]
  },
  {
   "cell_type": "markdown",
   "metadata": {},
   "source": [
    "Vi bruger den samme kode, når vi laver samme undersøgelse om almindelige kvindlige medlemmer af folketinget. Vi ændrer alene 'male' til 'female'."
   ]
  },
  {
   "cell_type": "code",
   "execution_count": null,
   "metadata": {
    "tags": []
   },
   "outputs": [],
   "source": [
    "female_mp = df[ (df['Gender'] == 'Female') & (df['Role'] == 'medlem')]\n",
    "female_mp['Time'].describe()"
   ]
  },
  {
   "cell_type": "code",
   "execution_count": null,
   "metadata": {
    "tags": []
   },
   "outputs": [],
   "source": [
    "round(male_mp['Time'].mean(),1)"
   ]
  },
  {
   "cell_type": "code",
   "execution_count": null,
   "metadata": {
    "tags": []
   },
   "outputs": [],
   "source": [
    "round(female_mp['Time'].mean(),1)"
   ]
  },
  {
   "cell_type": "markdown",
   "metadata": {},
   "source": [
    "Hvad fortæller statistikken os? Vil I kunne skrive en kode, der undersøger om mænd eller kvinder i gennemsnit taler hurtigst? Nedenfor får I et hint til, hvordan koden ville kunne se ud.\n",
    "\n",
    "`df[ (df['####'] == 'Male') & (df['####'] == 'medlem')]['####'].str.len().describe()`\n",
    "\n",
    "Udskift hash-tags med relevante kolonnenavne."
   ]
  },
  {
   "cell_type": "markdown",
   "metadata": {},
   "source": [
    "Løsningen kunne være:\n",
    "    \n",
    "`df[ (df['Gender'] == 'Male') & (df['Role'] == 'medlem')]['Text'].str.len().describe()`\n",
    "\n",
    "`df[ (df['Gender'] == 'Female') & (df['Role'] == 'medlem')]['Text'].str.len().describe()`"
   ]
  },
  {
   "cell_type": "markdown",
   "metadata": {},
   "source": [
    "### Omskab / reshaping data med pd.concat()\n",
    "\n",
    "I de linjer kode, hvor vi har gemt statistiske data i variablerne 'male_mp' og 'female_mp' har vi omskabt data med .describe(). Hvis vi vil have samlet data fra de to variabler i en ny dataframe, skal vi have omskabt data igen.\n",
    "\n",
    "Dette gør vi med pd.concat(). De nye dataframe gemmer vi i en variabel, vi kalder 'time_gender_table'.\n",
    "\n",
    "I slutningen af linjen tilføjer vi .reset_index(), hvilket resulterer i at indekset bliver til tal, og indekset bliver flyttet til en kolonne.\n",
    "\n",
    "Denne kolonne omdøber vi med .rename() til 'Statistics'."
   ]
  },
  {
   "cell_type": "code",
   "execution_count": null,
   "metadata": {
    "tags": []
   },
   "outputs": [],
   "source": [
    "time_gender_table = pd.concat({'Male': round(male_mp['Time'].describe(),1), \n",
    "                 'Female' : round(female_mp['Time'].describe(),1)}, axis=1).reset_index().rename(columns = {'index' : 'Statistics'})"
   ]
  },
  {
   "cell_type": "code",
   "execution_count": null,
   "metadata": {
    "tags": []
   },
   "outputs": [],
   "source": [
    "time_gender_table"
   ]
  },
  {
   "cell_type": "code",
   "execution_count": null,
   "metadata": {
    "tags": []
   },
   "outputs": [],
   "source": [
    "time_gender_table_filter = time_gender_table.iloc[1:8]"
   ]
  },
  {
   "cell_type": "code",
   "execution_count": null,
   "metadata": {
    "tags": []
   },
   "outputs": [],
   "source": [
    "sns.catplot(data=time_gender_table_filter)"
   ]
  },
  {
   "cell_type": "code",
   "execution_count": null,
   "metadata": {
    "tags": []
   },
   "outputs": [],
   "source": [
    "sns.catplot(x=\"Gender\", y=\"Time\", data=df)"
   ]
  },
  {
   "cell_type": "markdown",
   "metadata": {},
   "source": [
    "# Kønsfordeling i relation til emner"
   ]
  },
  {
   "cell_type": "code",
   "execution_count": null,
   "metadata": {
    "tags": []
   },
   "outputs": [],
   "source": [
    "gender_sub_male = df[df['Gender'] == 'Male']['Subject 1'].value_counts()  "
   ]
  },
  {
   "cell_type": "code",
   "execution_count": null,
   "metadata": {
    "tags": []
   },
   "outputs": [],
   "source": [
    "gender_sub_female = df[df['Gender'] == 'Female']['Subject 1'].value_counts()  "
   ]
  },
  {
   "cell_type": "code",
   "execution_count": null,
   "metadata": {
    "tags": []
   },
   "outputs": [],
   "source": [
    "df['Subject 1'].value_counts()"
   ]
  },
  {
   "cell_type": "code",
   "execution_count": null,
   "metadata": {
    "tags": []
   },
   "outputs": [],
   "source": [
    "df_gender_sub = pd.concat({'Male': gender_sub_male, \n",
    "                 'Female' : gender_sub_female}, axis=1).reset_index().rename(columns = {'index' : 'Subjects'})"
   ]
  },
  {
   "cell_type": "code",
   "execution_count": null,
   "metadata": {
    "tags": []
   },
   "outputs": [],
   "source": [
    "df_gender_sub"
   ]
  },
  {
   "cell_type": "code",
   "execution_count": null,
   "metadata": {
    "tags": []
   },
   "outputs": [],
   "source": [
    "sns.catplot(x='Male', y=\"Subjects\", data=df_gender_sub , kind='bar') \n",
    "\n",
    "sns.catplot(x='Female', y=\"Subjects\", data=df_gender_sub , kind='bar') "
   ]
  }
 ],
 "metadata": {
  "kernelspec": {
   "display_name": "Python 3 ",
   "language": "python",
   "name": "python3"
  },
  "language_info": {
   "codemirror_mode": {
    "name": "ipython",
    "version": 3
   },
   "file_extension": ".py",
   "mimetype": "text/x-python",
   "name": "python",
   "nbconvert_exporter": "python",
   "pygments_lexer": "ipython3",
   "version": "3.9.6"
  }
 },
 "nbformat": 4,
 "nbformat_minor": 4
}
