{
 "cells": [
  {
   "cell_type": "markdown",
   "metadata": {},
   "source": [
    "# Byg datasæt til brug med voyant tools\n",
    "\n",
    "Her kan du konkret finde kode der kan bygge:\n",
    "\n",
    "- et datasæt med data fra alle samlinger fra 1953 til 2008. Filstruktur temporal.\n",
    "- et datasæt med data fra alle samlinger fra 2009 til 2021. Filstruktur temporal.\n",
    "- et datasæt med data fra alle partier fra 2015 til belysning af terrorår\n",
    "- et datasæt med data fra alle partier fra 2020 til belysning af coronaår\n",
    "\n",
    "\n",
    "Desuden kan du ved hjælp af koden få inspiration til at skrive en kode, der kan trække andre taler ud af datasættene. "
   ]
  },
  {
   "cell_type": "code",
   "execution_count": null,
   "metadata": {
    "tags": []
   },
   "outputs": [],
   "source": [
    "import pandas as pd\n",
    "import re\n",
    "import os"
   ]
  },
  {
   "cell_type": "markdown",
   "metadata": {},
   "source": [
    "## et datasæt med data fra alle samlinger fra 1953 til 2008. Filstruktur temporal."
   ]
  },
  {
   "cell_type": "code",
   "execution_count": null,
   "metadata": {
    "tags": []
   },
   "outputs": [],
   "source": [
    "# sti til mappe med filer \n",
    "path = '/work/Common-files/Data/Datasæt1/Samlede/'\n",
    "\n",
    "# sti til destinationsmappen\n",
    "destination = '/work/'"
   ]
  },
  {
   "cell_type": "code",
   "execution_count": null,
   "metadata": {},
   "outputs": [],
   "source": [
    "# navne på filer samlet i en list\n",
    "file_names = os.listdir(path)"
   ]
  },
  {
   "cell_type": "code",
   "execution_count": null,
   "metadata": {},
   "outputs": [],
   "source": [
    "# navne på samlinger samlet i en liste\n",
    "sessions = [i[:5] for i in file_names]"
   ]
  },
  {
   "cell_type": "code",
   "execution_count": null,
   "metadata": {},
   "outputs": [],
   "source": [
    "count = 0\n",
    "\n",
    "for i in file_names:\n",
    "    \n",
    "    os.chdir(path) # skift til mappe med filer\n",
    "    \n",
    "    df = pd.read_csv(i, sep=';', encoding='Latin') # indlæs csv som df\n",
    "\n",
    "    df_frac = df['indhold'].sample(frac=0.1) # udtræk delmængde af indholdskolonnen\n",
    "\n",
    "    frac_text = list(df_frac) # konverter indholdet til en list \n",
    "\n",
    "    text_string = ' '.join(frac_text) # saml listen i en tekststreng\n",
    "\n",
    "    text_string_clean1 = re.sub('[^A-Za-zÆæØøÅåÄäÖöÜü\\s\\d.,]', ' ', text_string ) # rens for tegn \n",
    "    \n",
    "    text_string_clean2 = re.sub('\\s+', ' ', text_string_clean1) # rens for ekstra whitespace\n",
    "    \n",
    "    file_name = sessions[count] # hent navnet på samlingen\n",
    "    \n",
    "    os.chdir(destination) # skift mappe til destiantionsmappe\n",
    "    \n",
    "    open_file = open(file_name + '.txt', 'w', encoding='utf-8') # Åbn en fil og navngiv den med samlingsnavnet\n",
    "    \n",
    "    open_file.write(text_string_clean2) # skriv indholdet til filen \n",
    "    \n",
    "    open_file.close() # luk filen \n",
    "    \n",
    "    count = count + 1     # gør klar til næste iternation"
   ]
  },
  {
   "cell_type": "markdown",
   "metadata": {},
   "source": [
    "## et datasæt med data fra alle samlinger fra 2009 til 2021. Filstruktur temporal."
   ]
  },
  {
   "cell_type": "code",
   "execution_count": null,
   "metadata": {},
   "outputs": [],
   "source": [
    "# sti til mappe med filer \n",
    "path = '/work/Common-files/Data/Datasæt3/'"
   ]
  },
  {
   "cell_type": "code",
   "execution_count": null,
   "metadata": {},
   "outputs": [],
   "source": [
    "# sti til destinationsmappen\n",
    "destination = '/work/'"
   ]
  },
  {
   "cell_type": "code",
   "execution_count": null,
   "metadata": {},
   "outputs": [],
   "source": [
    "# navne på filer samlet i en list\n",
    "file_names = os.listdir(path)\n",
    "file_names = [i for i in file_names if i.endswith('.csv')]"
   ]
  },
  {
   "cell_type": "code",
   "execution_count": null,
   "metadata": {},
   "outputs": [],
   "source": [
    "# navne på samlinger samlet i en liste\n",
    "sessions = [i[:5] for i in file_names]"
   ]
  },
  {
   "cell_type": "code",
   "execution_count": null,
   "metadata": {},
   "outputs": [],
   "source": [
    "count = 0\n",
    "\n",
    "for i in file_names:\n",
    "    \n",
    "    os.chdir(path) # skift til mappe med filer\n",
    "    \n",
    "    df = pd.read_csv(i, sep=',', encoding='utf-8') # indlæs csv som df\n",
    "\n",
    "    df_frac = df['text'].sample(frac=0.1) # udtræk delmængde af indholdskolonnen\n",
    "\n",
    "    frac_text = list(df_frac) # konverter indholdet til en list \n",
    "\n",
    "    text_string = ' '.join(frac_text) # saml listen i en tekststreng\n",
    "\n",
    "    text_string_clean1 = re.sub('[^A-Za-zÆæØøÅåÄäÖöÜü\\s\\d.,]', ' ', text_string ) # rens for tegn \n",
    "    \n",
    "    text_string_clean2 = re.sub('\\s+', ' ', text_string_clean1) # rens for ekstra whitespace\n",
    "    \n",
    "    file_name = sessions[count] # hent navnet på samlingen\n",
    "    \n",
    "    os.chdir(destination) # skift mappe til destiantionsmappe\n",
    "    \n",
    "    open_file = open(file_name + '.txt', 'w', encoding='utf-8') # Åbn en fil og navngiv den med samlingsnavnet\n",
    "    \n",
    "    open_file.write(text_string_clean2) # skriv indholdet til filen \n",
    "    \n",
    "    open_file.close() # luk filen \n",
    "    \n",
    "    count = count + 1     # gør klar til næste iternation"
   ]
  },
  {
   "cell_type": "markdown",
   "metadata": {},
   "source": [
    "## et datasæt med data fra alle partier fra 2015 til belysning af terrorår"
   ]
  },
  {
   "cell_type": "code",
   "execution_count": null,
   "metadata": {},
   "outputs": [],
   "source": [
    "# sti til mappe med filer \n",
    "path = '/work/Common-files/Data/Datasæt2/csv_files/'\n",
    "# sti til destinationsmappen\n",
    "destination = '/work/'"
   ]
  },
  {
   "cell_type": "code",
   "execution_count": null,
   "metadata": {},
   "outputs": [],
   "source": [
    "os.chdir(path) # skift til mappe med filer\n",
    "    \n",
    "df = pd.read_csv('20151.csv', sep=',', encoding='utf-8') # indlæs csv som df"
   ]
  },
  {
   "cell_type": "code",
   "execution_count": null,
   "metadata": {},
   "outputs": [],
   "source": [
    "parties = list(set((df['Party'].values)))"
   ]
  },
  {
   "cell_type": "code",
   "execution_count": null,
   "metadata": {},
   "outputs": [],
   "source": [
    "for i in parties:\n",
    "    \n",
    "    text_list = list(df[df['Party'] == str(i)]['Text'])\n",
    "\n",
    "    text_string = ' '.join(text_list)\n",
    "    \n",
    "    text_string_clean1 = re.sub('[^A-Za-zÆæØøÅåÄäÖöÜü\\s\\d.,]', ' ', text_string ) # rens for tegn \n",
    "    \n",
    "    text_string_clean2 = re.sub('\\s+', ' ', text_string_clean1) # rens for ekstra whitespace\n",
    "\n",
    "    file_name = '2015 ' + str(i) + ' whole text' # hent navnet på samlingen\n",
    "\n",
    "    os.chdir(destination) # skift mappe til destiantionsmappe\n",
    "\n",
    "    open_file = open(file_name + '.txt', 'w', encoding='utf-8') # Åbn en fil og navngiv den med samlingsnavnet\n",
    "\n",
    "    open_file.write(text_string_clean2) # skriv indholdet til filen \n",
    "\n",
    "    open_file.close() # luk filen "
   ]
  },
  {
   "cell_type": "markdown",
   "metadata": {},
   "source": [
    "## et datasæt med data fra alle partier fra 2020 til belysning af coronaår"
   ]
  },
  {
   "cell_type": "code",
   "execution_count": null,
   "metadata": {},
   "outputs": [],
   "source": [
    "# sti til mappe med filer \n",
    "path = '/work/Common-files/Data/Datasæt3/'\n",
    "# sti til destinationsmappen\n",
    "destination = '/work/'"
   ]
  },
  {
   "cell_type": "code",
   "execution_count": null,
   "metadata": {},
   "outputs": [],
   "source": [
    "os.chdir(path) # skift til mappe med filer\n",
    "    \n",
    "df = pd.read_csv('20201.csv', sep=',', encoding='utf-8') # indlæs csv som df"
   ]
  },
  {
   "cell_type": "code",
   "execution_count": null,
   "metadata": {},
   "outputs": [],
   "source": [
    "parties = list(set((df['group_name'].values)))"
   ]
  },
  {
   "cell_type": "code",
   "execution_count": null,
   "metadata": {
    "tags": []
   },
   "outputs": [],
   "source": [
    "for i in parties:\n",
    "    \n",
    "    text_list = list(df[df['group_name'] == str(i)]['text'])\n",
    "\n",
    "    text_string = ' '.join(text_list)\n",
    "    \n",
    "    text_string_clean1 = re.sub('[^A-Za-zÆæØøÅåÄäÖöÜü\\s\\d.,]', ' ', text_string ) # rens for tegn \n",
    "    \n",
    "    text_string_clean2 = re.sub('\\s+', ' ', text_string_clean1) # rens for ekstra whitespace\n",
    "\n",
    "    file_name = '2020 ' + str(i) + ' whole text.' # hent navnet på samlingen\n",
    "\n",
    "    os.chdir(destination) # skift mappe til destiantionsmappe\n",
    "\n",
    "    open_file = open(file_name + '.txt', 'w', encoding='utf-8') # Åbn en fil og navngiv den med samlingsnavnet\n",
    "\n",
    "    open_file.write(text_string_clean2) # skriv indholdet til filen \n",
    "\n",
    "    open_file.close() # luk filen "
   ]
  }
 ],
 "metadata": {
  "kernelspec": {
   "display_name": "Python 3 ",
   "language": "python",
   "name": "python3"
  },
  "language_info": {
   "codemirror_mode": {
    "name": "ipython",
    "version": 3
   },
   "file_extension": ".py",
   "mimetype": "text/x-python",
   "name": "python",
   "nbconvert_exporter": "python",
   "pygments_lexer": "ipython3",
   "version": "3.9.6"
  }
 },
 "nbformat": 4,
 "nbformat_minor": 4
}
