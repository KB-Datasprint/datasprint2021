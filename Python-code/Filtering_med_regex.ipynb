{
 "cells": [
  {
   "cell_type": "code",
   "execution_count": null,
   "metadata": {
    "tags": []
   },
   "outputs": [],
   "source": [
    "import pandas as pd\n",
    "import matplotlib.pyplot as plt\n",
    "import seaborn as sns\n",
    "import re\n",
    "\n",
    "%matplotlib inline\n",
    "%config InlineBackend.figure_format = 'png' \n",
    "sns.set()"
   ]
  },
  {
   "cell_type": "code",
   "execution_count": null,
   "metadata": {},
   "outputs": [],
   "source": []
  },
  {
   "cell_type": "code",
   "execution_count": null,
   "metadata": {
    "tags": []
   },
   "outputs": [],
   "source": [
    "path = '/work/Common-files/Data/Datasæt2/whole_set/whole_set.pkl' # Sti til datafil.\n",
    "\n",
    "df = pd.read_pickle(path)"
   ]
  },
  {
   "cell_type": "code",
   "execution_count": null,
   "metadata": {
    "tags": []
   },
   "outputs": [],
   "source": [
    "df.head(2)"
   ]
  },
  {
   "cell_type": "markdown",
   "metadata": {},
   "source": [
    "Nedenfor drejer det sig om at besvare spørgsmålet, hvilket parti taler mest om et ud valgt emne? I dette tilfælde ser vi på ordet 'islam'.\n",
    "\n",
    "Vi benytter Regex til at holde styr på vores søgning.\n",
    "\n",
    "Vi kan bruge `\\b` til at ramme starten og slutningen af ordet.\n",
    "\n",
    "Hvis vi bruger `.+?\\b` efter islam, så finder vi stammen af ordet islam inklusiv endelser."
   ]
  },
  {
   "cell_type": "code",
   "execution_count": null,
   "metadata": {
    "tags": []
   },
   "outputs": [],
   "source": [
    "regex1 = r'\\bislam\\b'\n",
    "regex2 = r'\\bislam.+?\\b'"
   ]
  },
  {
   "cell_type": "code",
   "execution_count": null,
   "metadata": {
    "tags": []
   },
   "outputs": [],
   "source": [
    "data_search = df[df[\"Text\"].str.contains(regex2, regex=True)]"
   ]
  },
  {
   "cell_type": "code",
   "execution_count": null,
   "metadata": {
    "tags": []
   },
   "outputs": [],
   "source": [
    "sns.countplot( y = data_search[\"Party\"], data = data_search).set(title='Hvilket parti taler mest om emnet?', xlabel='Antal af taler hvori i ordet benyttes', ylabel='Parti')"
   ]
  },
  {
   "cell_type": "markdown",
   "metadata": {},
   "source": [
    "## Relativ frekvens\n",
    "Vi kan bruge en relativ frekvens til at besvare spørgsmålet, hvor meget fylder et fænomen i den politiske diskurs i folketinget generelt og specifikt inden for de forskellige partier?\n",
    "\n",
    "Dette gør vi ved at vælge et ord og beregne 1. ordet i forhold til det totale antal taler fra alle partier. 2. ordet i forhold til alle taler fra hvert parti."
   ]
  },
  {
   "cell_type": "code",
   "execution_count": null,
   "metadata": {
    "tags": []
   },
   "outputs": [],
   "source": [
    "# Liste med partinavne, der taler om islam\n",
    "party_list = ['ALT', 'DF', 'EL', 'JF', 'KF', 'LA', 'RV', 'S',]\n",
    "\n",
    "# forbered en liste til den relative frekvens data\n",
    "values = []\n",
    "\n",
    "# ordet i forhold til det totale antal taler fra alle partier\n",
    "values.append(df['Text'].str.count(regex1).sum() / df['Text'].str.split().str.len().sum())\n",
    "\n",
    "# ordet i forhold til alle taler fra hvert parti\n",
    "for party in party_list:\n",
    "\n",
    "    hits = df[df[\"Party\"].str.contains(party)]['Text'].str.count(regex1).sum()\n",
    "\n",
    "    total = df[df[\"Party\"].str.contains(party)]['Text'].str.split().str.len().sum()\n",
    "    \n",
    "    values.append(hits / total)"
   ]
  },
  {
   "cell_type": "markdown",
   "metadata": {},
   "source": [
    "Tilbage til Pandas Dataframe for at plotte værdierne."
   ]
  },
  {
   "cell_type": "code",
   "execution_count": null,
   "metadata": {
    "tags": []
   },
   "outputs": [],
   "source": [
    "rf = values\n",
    "cat = ['Total', 'ALT', 'DF', 'EL', 'JF', 'KF', 'LA', 'RV', 'S']\n",
    "df1 = pd.DataFrame( {'Party' : cat, 'Relativ frekvens' : rf} ) # Dictionary / key value  "
   ]
  },
  {
   "cell_type": "markdown",
   "metadata": {},
   "source": [
    "Med Matplotlib kan vi gøre det på følgende måde."
   ]
  },
  {
   "cell_type": "code",
   "execution_count": null,
   "metadata": {
    "tags": []
   },
   "outputs": [],
   "source": [
    "df1.plot.bar(x='Party')"
   ]
  },
  {
   "cell_type": "markdown",
   "metadata": {},
   "source": [
    "Skal vi gøre det samme i Seaborn, skal vi sprede rækkerne i kolonner vha. df.pivot(columns = 'var', values='val'). "
   ]
  },
  {
   "cell_type": "code",
   "execution_count": null,
   "metadata": {
    "tags": []
   },
   "outputs": [],
   "source": [
    "df2 = df1.pivot(columns='Party', values='Relativ frekvens')"
   ]
  },
  {
   "cell_type": "markdown",
   "metadata": {},
   "source": [
    "Herefter skriver vi følgende."
   ]
  },
  {
   "cell_type": "code",
   "execution_count": null,
   "metadata": {
    "tags": []
   },
   "outputs": [],
   "source": [
    "sns.barplot(data = df2).set(title='Hvilket parti taler mest om emnet?', xlabel='Ordets relative frekvens i partiernes diskurs', ylabel='Parti')"
   ]
  }
 ],
 "metadata": {
  "kernelspec": {
   "display_name": "Python 3 ",
   "language": "python",
   "name": "python3"
  },
  "language_info": {
   "codemirror_mode": {
    "name": "ipython",
    "version": 3
   },
   "file_extension": ".py",
   "mimetype": "text/x-python",
   "name": "python",
   "nbconvert_exporter": "python",
   "pygments_lexer": "ipython3",
   "version": "3.9.6"
  }
 },
 "nbformat": 4,
 "nbformat_minor": 4
}
