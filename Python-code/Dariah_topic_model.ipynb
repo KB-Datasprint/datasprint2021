{
 "cells": [
  {
   "cell_type": "code",
   "execution_count": 4,
   "id": "ee0b01be-6278-484b-b71e-0eb1c50dd88c",
   "metadata": {},
   "outputs": [],
   "source": [
    "# Topic models ### husk 'pip install dariah' første gang \n",
    "from pathlib import Path\n",
    "import dariah\n",
    "import logging\n",
    "%matplotlib inline"
   ]
  },
  {
   "cell_type": "markdown",
   "id": "7c03cd29-f0ac-44a5-845c-84d617e86b51",
   "metadata": {},
   "source": [
    "Nedenfor tilføjer vi en logger. Det er ikke nødvendigt for at foretage en topic model analyse, men når det virker, så ser det smart ud. "
   ]
  },
  {
   "cell_type": "code",
   "execution_count": 5,
   "id": "89bf4d60-6f9b-446c-a08a-3f0f6b120080",
   "metadata": {},
   "outputs": [],
   "source": [
    "logger = logging.getLogger()\n",
    "logger.setLevel(logging.INFO)"
   ]
  },
  {
   "cell_type": "markdown",
   "id": "21fac4d9-1b42-4af1-950c-47199fe08b3f",
   "metadata": {},
   "source": [
    "Stopord er smarte at bruge i topic models, fordi vi skal forsøge at finde frem til samlingens tematiske inddeling, og i den sammenhænge eksisterer der en del ord i talerne, der ikke giver mening. Det er disse ord, vi kalder for stopord, og disse ord filterer vi fra.\n",
    "\n",
    "I kan vælge at tilføje flere stopord til tekststrengen nedenfor. "
   ]
  },
  {
   "cell_type": "code",
   "execution_count": 6,
   "id": "ffa5efde-491f-4c85-b67c-ae1657cf0451",
   "metadata": {},
   "outputs": [],
   "source": [
    "stopwords = 'ad af afgik al alle allerede alligevel alt altid alting altså anden andet andre at atter bag bare begge bemeldt bemeldte bl.a bl.a. bla blandt blev bleven blevet blive bliver blot bort brug bruge bruge bruger brugt brugte burde bør både både cirka da de del dels dem den dengang denne dennes der derefter deres derfor dermed dersom dertil derudover derved desuden desværre det dette dig disse dit dito dog dog du efter efterhånden eftersom egen ei ej eller ellers en end ende endnu endvidere ene enhver enten er erne et f.eks f.eks. fandt fik find finde flere for for foran fordi forslag forslag et forslagene fra frem fremdeles fru fx fx. før først første få fået får gang gange ganske gav gennem gerne gerne gik give gives givet gjorde gjort gjort god godt gør gøre gå går haft ham han hans hans har havde have hele heller hellere helst helt hen hende hendes her herhjemme hertil herunder herved hidindtil hidtil hin hinanden hjem hjemme holde holder holdt hos hr hun hvad hveken hvem hver hverandre hverken hvert hvilke hvilken hvilkensomhelst hvilket hvis hvor hvordan hvorfor hvoriblandt hvornår hvorom hvorved hvorvidt I i idet ifald igen igennem ikke imellem imod ind inde inden indtil ingen ingenting intet især jamen jeg jer jo kan kigge kiggede kigger kigget klar klart klarest klareste kom komme kommer kommet kort kortere kortest korteste kun kunne kunnet lade ladet lagt lang langt lave lave laver lavet lavet lidt lige ligefrem ligelede ligeledes ligesom ligeså ligeud ligge ligger lægge lægger længere længst længste lå man mange med medmindre meget mellem men mener mens mere mig mindre mindre ministeren mit mod må måde måden måske måtte naturligvis ned ned nede nemlig netop no nogen nogenting noget nogle nok nu nær næsten nødt når ofte og også om omkring op op opnå oppe os osv osv. over per pludselig på sagde sagt samme samt samtidig samtidigt samtlig samtlige sat se selv selvfølgelig ser set set siden sidst sidste sig sige siger sin sin sine sit skal ske sker skete skulle skønt slags slet snakke snakkede snakker snakket snart som stadig straks synes syntes sætte sætter så sådan sådanne sådant såfremt således tage tager tages tak til tilbage tilhørende tillige tilstillet ting tit to tog tre trods tror turde tværs tør uanset ud ude ude uden under var ved vel vi videre vidt vigtig vigtigt vil ville vist være været'"
   ]
  },
  {
   "cell_type": "markdown",
   "id": "13b3164e-6c24-413b-91c4-a649c867ff2d",
   "metadata": {},
   "source": [
    "Dariah-pakken skal bruge en stopordliste, og vi går fra en tekststreng til en liste vha. af .split(). "
   ]
  },
  {
   "cell_type": "code",
   "execution_count": 7,
   "id": "6e5d7c4c-70fe-435f-914a-6eacb95828de",
   "metadata": {},
   "outputs": [],
   "source": [
    "stopwords_list = list(stopwords.split())"
   ]
  },
  {
   "cell_type": "markdown",
   "id": "225a013f-c941-4d9e-935a-d8bc3cf4f902",
   "metadata": {},
   "source": [
    "Dariah-pakken skal også bruge en mappe med tekster, der er 'saved' i .txt format, så det er vi nødt til at give den.\n",
    "\n",
    "Der er flere mapper txt filer på denne mappesti: '/work/Common-files/Data/Datasæt4/samples for voyant tools'\n",
    "\n",
    "Der er f.eks. en mappe med taler fra 1960erne og en med taler fra 1970erne. Det er to interessante tekst-samlinger, fordi det ene årti er præget af højkonjuinktur, mens det andet årti er præget af lavkonjunktur, og set på den måde vil der eksisterer en naturlig interesse for sammenligne årtiernes temaer.\n",
    "\n",
    "Vi gemmer stier til de to mapper i to variabler."
   ]
  },
  {
   "cell_type": "code",
   "execution_count": 7,
   "id": "4e4e9b68-822f-448d-a3ea-24348265758d",
   "metadata": {},
   "outputs": [],
   "source": [
    "path_60 = '/work/Common-files/Data/Datasæt4/samples for voyant tools/1960erne'\n",
    "\n",
    "path_70 = '/work/Common-files/Data/Datasæt4/samples for voyant tools/1970erne'"
   ]
  },
  {
   "cell_type": "markdown",
   "id": "ad9366ae-2320-4da5-9464-96fe877d251d",
   "metadata": {},
   "source": [
    "Dariah-pakken skal have stierne til mapperne leveret i 'Path(/sti/)', så det gør vi.\n"
   ]
  },
  {
   "cell_type": "code",
   "execution_count": 8,
   "id": "bd4bfd96-5267-4ebc-8f05-cd53f52db12b",
   "metadata": {},
   "outputs": [],
   "source": [
    "directory_60 = Path(path_60)\n",
    "\n",
    "directory_70 = Path(path_70)"
   ]
  },
  {
   "cell_type": "markdown",
   "id": "68823645-2965-4249-a542-cdfaca0339d3",
   "metadata": {},
   "source": [
    "Vi er klar til at lave den beregning, der resulterer i tematikken. \n",
    "\n",
    "Dariah-pakken kræver, at vi definerer antallet af 'topics' (temaer) og antallet af iterationer (beregninger). Det bliver hurtigt meget svært for computeren, så vi begrænser os til 10 topics og 1000 interationer."
   ]
  },
  {
   "cell_type": "code",
   "execution_count": 3,
   "id": "cd4dcbaf-c0c6-4129-8836-df3cce1c36da",
   "metadata": {},
   "outputs": [
    {
     "ename": "NameError",
     "evalue": "name 'dariah' is not defined",
     "output_type": "error",
     "traceback": [
      "\u001b[0;31m---------------------------------------------------------------------------\u001b[0m",
      "\u001b[0;31mNameError\u001b[0m                                 Traceback (most recent call last)",
      "\u001b[0;32m/tmp/ipykernel_210/3896026694.py\u001b[0m in \u001b[0;36m<module>\u001b[0;34m\u001b[0m\n\u001b[0;32m----> 1\u001b[0;31m model_60, vis_60 = dariah.topics(directory_60,\n\u001b[0m\u001b[1;32m      2\u001b[0m                            \u001b[0mstopwords\u001b[0m \u001b[0;34m=\u001b[0m \u001b[0mstopwords_list\u001b[0m\u001b[0;34m,\u001b[0m\u001b[0;34m\u001b[0m\u001b[0;34m\u001b[0m\u001b[0m\n\u001b[1;32m      3\u001b[0m                            \u001b[0mnum_topics\u001b[0m\u001b[0;34m=\u001b[0m\u001b[0;36m10\u001b[0m\u001b[0;34m,\u001b[0m\u001b[0;34m\u001b[0m\u001b[0;34m\u001b[0m\u001b[0m\n\u001b[1;32m      4\u001b[0m                            num_iterations=1000)\n",
      "\u001b[0;31mNameError\u001b[0m: name 'dariah' is not defined"
     ]
    }
   ],
   "source": [
    "model_60, vis_60 = dariah.topics(directory_60,\n",
    "                           stopwords = stopwords_list, \n",
    "                           num_topics=10,\n",
    "                           num_iterations=1000)"
   ]
  },
  {
   "cell_type": "code",
   "execution_count": 10,
   "id": "164d52c8-263a-4887-bed2-4519eda7ad87",
   "metadata": {},
   "outputs": [
    {
     "name": "stderr",
     "output_type": "stream",
     "text": [
      "INFO:cophi.api:Processing '19741' ...\n",
      "INFO:cophi.api:Processing '19742' ...\n",
      "INFO:cophi.api:Processing '19771' ...\n",
      "INFO:cophi.api:Processing '19732' ...\n",
      "INFO:cophi.api:Processing '19731' ...\n",
      "INFO:cophi.api:Processing '19751' ...\n",
      "INFO:cophi.api:Processing '19761' ...\n",
      "INFO:cophi.api:Processing '19791' ...\n",
      "INFO:cophi.api:Processing '19721' ...\n",
      "INFO:cophi.api:Processing '19711' ...\n",
      "INFO:cophi.api:Processing '19762' ...\n",
      "INFO:cophi.api:Processing '19792' ...\n",
      "INFO:cophi.api:Processing '19781' ...\n",
      "INFO:cophi.api:Processing '19701' ...\n",
      "INFO:cophi.api:Constructing Corpus object ...\n",
      "INFO:cophi.text.model:Processing '19741'...\n",
      "INFO:cophi.text.model:Processing '19742'...\n",
      "INFO:cophi.text.model:Processing '19771'...\n",
      "INFO:cophi.text.model:Processing '19732'...\n",
      "INFO:cophi.text.model:Processing '19731'...\n",
      "INFO:cophi.text.model:Processing '19751'...\n",
      "INFO:cophi.text.model:Processing '19761'...\n",
      "INFO:cophi.text.model:Processing '19791'...\n",
      "INFO:cophi.text.model:Processing '19721'...\n",
      "INFO:cophi.text.model:Processing '19711'...\n",
      "INFO:cophi.text.model:Processing '19762'...\n",
      "INFO:cophi.text.model:Processing '19792'...\n",
      "INFO:cophi.text.model:Processing '19781'...\n",
      "INFO:cophi.text.model:Processing '19701'...\n",
      "INFO:cophi.text.model:Constructing document-term matrix...\n"
     ]
    }
   ],
   "source": [
    "model_70, vis_70 = dariah.topics(directory_70,\n",
    "                           stopwords = stopwords_list, \n",
    "                           num_topics=10,\n",
    "                           num_iterations=1000)"
   ]
  },
  {
   "cell_type": "markdown",
   "id": "37318b69-1131-42e7-bc14-a53abb254019",
   "metadata": {},
   "source": [
    "Dariah returnere en dataframe og vi kan f.eks. bruge .iloc[] til at filtere os frem til de ord, der er placeret som de 20 til 40 mest relevante ord for temaet.\n",
    "For at få en forståelse for temaet skal man ofte kigge på 20 første ord."
   ]
  },
  {
   "cell_type": "code",
   "execution_count": 2,
   "id": "84258a3f-be68-416f-879e-34f0d0a3c263",
   "metadata": {},
   "outputs": [
    {
     "ename": "NameError",
     "evalue": "name 'model_60' is not defined",
     "output_type": "error",
     "traceback": [
      "\u001b[0;31m---------------------------------------------------------------------------\u001b[0m",
      "\u001b[0;31mNameError\u001b[0m                                 Traceback (most recent call last)",
      "\u001b[0;32m/tmp/ipykernel_210/1134563704.py\u001b[0m in \u001b[0;36m<module>\u001b[0;34m\u001b[0m\n\u001b[0;32m----> 1\u001b[0;31m \u001b[0mmodel_60\u001b[0m\u001b[0;34m.\u001b[0m\u001b[0mtopics\u001b[0m\u001b[0;34m.\u001b[0m\u001b[0miloc\u001b[0m\u001b[0;34m[\u001b[0m\u001b[0;34m:\u001b[0m\u001b[0;34m,\u001b[0m \u001b[0;34m:\u001b[0m\u001b[0;36m40\u001b[0m\u001b[0;34m]\u001b[0m\u001b[0;34m\u001b[0m\u001b[0;34m\u001b[0m\u001b[0m\n\u001b[0m",
      "\u001b[0;31mNameError\u001b[0m: name 'model_60' is not defined"
     ]
    }
   ],
   "source": [
    "model_60.topics.iloc[:, 20:40]"
   ]
  },
  {
   "cell_type": "code",
   "execution_count": 12,
   "id": "ef723ab5-dcb5-4ea5-ae44-a45528cd07fd",
   "metadata": {},
   "outputs": [
    {
     "data": {
      "text/html": [
       "<div>\n",
       "<style scoped>\n",
       "    .dataframe tbody tr th:only-of-type {\n",
       "        vertical-align: middle;\n",
       "    }\n",
       "\n",
       "    .dataframe tbody tr th {\n",
       "        vertical-align: top;\n",
       "    }\n",
       "\n",
       "    .dataframe thead th {\n",
       "        text-align: right;\n",
       "    }\n",
       "</style>\n",
       "<table border=\"1\" class=\"dataframe\">\n",
       "  <thead>\n",
       "    <tr style=\"text-align: right;\">\n",
       "      <th></th>\n",
       "      <th>word20</th>\n",
       "      <th>word21</th>\n",
       "      <th>word22</th>\n",
       "      <th>word23</th>\n",
       "      <th>word24</th>\n",
       "      <th>word25</th>\n",
       "      <th>word26</th>\n",
       "      <th>word27</th>\n",
       "      <th>word28</th>\n",
       "      <th>word29</th>\n",
       "      <th>word30</th>\n",
       "      <th>word31</th>\n",
       "      <th>word32</th>\n",
       "      <th>word33</th>\n",
       "      <th>word34</th>\n",
       "      <th>word35</th>\n",
       "      <th>word36</th>\n",
       "      <th>word37</th>\n",
       "      <th>word38</th>\n",
       "      <th>word39</th>\n",
       "    </tr>\n",
       "  </thead>\n",
       "  <tbody>\n",
       "    <tr>\n",
       "      <th>topic0</th>\n",
       "      <td>områder</td>\n",
       "      <td>særlig</td>\n",
       "      <td>mill</td>\n",
       "      <td>grund</td>\n",
       "      <td>enig</td>\n",
       "      <td>større</td>\n",
       "      <td>drejer</td>\n",
       "      <td>visse</td>\n",
       "      <td>hensyn</td>\n",
       "      <td>grad</td>\n",
       "      <td>nødvendigt</td>\n",
       "      <td>lovgivning</td>\n",
       "      <td>kr</td>\n",
       "      <td>folketingets</td>\n",
       "      <td>tredje</td>\n",
       "      <td>ændringer</td>\n",
       "      <td>store</td>\n",
       "      <td>udvalg</td>\n",
       "      <td>spørgsmål</td>\n",
       "      <td>sociale</td>\n",
       "    </tr>\n",
       "    <tr>\n",
       "      <th>topic1</th>\n",
       "      <td>giver</td>\n",
       "      <td>bedre</td>\n",
       "      <td>eks</td>\n",
       "      <td>formanden</td>\n",
       "      <td>lande</td>\n",
       "      <td>dansk</td>\n",
       "      <td>regler</td>\n",
       "      <td>rimeligt</td>\n",
       "      <td>vedtaget</td>\n",
       "      <td>direkte</td>\n",
       "      <td>folk</td>\n",
       "      <td>hermed</td>\n",
       "      <td>sagen</td>\n",
       "      <td>støtte</td>\n",
       "      <td>svar</td>\n",
       "      <td>følge</td>\n",
       "      <td>sikre</td>\n",
       "      <td>baggrund</td>\n",
       "      <td>medlem</td>\n",
       "      <td>håber</td>\n",
       "    </tr>\n",
       "    <tr>\n",
       "      <th>topic2</th>\n",
       "      <td>egentlig</td>\n",
       "      <td>gælder</td>\n",
       "      <td>statsministeren</td>\n",
       "      <td>alene</td>\n",
       "      <td>beh</td>\n",
       "      <td>stilling</td>\n",
       "      <td>debat</td>\n",
       "      <td>radikale</td>\n",
       "      <td>regeringens</td>\n",
       "      <td>økonomisk</td>\n",
       "      <td>problem</td>\n",
       "      <td>enige</td>\n",
       "      <td>hansen</td>\n",
       "      <td>møller</td>\n",
       "      <td>vurdering</td>\n",
       "      <td>endelig</td>\n",
       "      <td>sket</td>\n",
       "      <td>betale</td>\n",
       "      <td>gennemføre</td>\n",
       "      <td>politisk</td>\n",
       "    </tr>\n",
       "    <tr>\n",
       "      <th>topic3</th>\n",
       "      <td>samlede</td>\n",
       "      <td>mennesker</td>\n",
       "      <td>folketingsbeslutning</td>\n",
       "      <td>afstemning</td>\n",
       "      <td>foranstaltninger</td>\n",
       "      <td>fundet</td>\n",
       "      <td>fald</td>\n",
       "      <td>retning</td>\n",
       "      <td>henvise</td>\n",
       "      <td>betydelig</td>\n",
       "      <td>sattes</td>\n",
       "      <td>samfund</td>\n",
       "      <td>socialministeren</td>\n",
       "      <td>socialdemokratiske</td>\n",
       "      <td>rimelig</td>\n",
       "      <td>næste</td>\n",
       "      <td>års</td>\n",
       "      <td>foreslået</td>\n",
       "      <td>fælles</td>\n",
       "      <td>udvalgsarbejdet</td>\n",
       "    </tr>\n",
       "    <tr>\n",
       "      <th>topic4</th>\n",
       "      <td>medlemmer</td>\n",
       "      <td>engang</td>\n",
       "      <td>løsning</td>\n",
       "      <td>positive</td>\n",
       "      <td>jakobsen</td>\n",
       "      <td>yderligere</td>\n",
       "      <td>såkaldte</td>\n",
       "      <td>land</td>\n",
       "      <td>rammer</td>\n",
       "      <td>henvises</td>\n",
       "      <td>lovforslag</td>\n",
       "      <td>udtræder</td>\n",
       "      <td>oplysninger</td>\n",
       "      <td>hjælpe</td>\n",
       "      <td>ninn</td>\n",
       "      <td>glad</td>\n",
       "      <td>bjerregaard</td>\n",
       "      <td>mill</td>\n",
       "      <td>indgreb</td>\n",
       "      <td>august</td>\n",
       "    </tr>\n",
       "    <tr>\n",
       "      <th>topic5</th>\n",
       "      <td>overvejelser</td>\n",
       "      <td>drejer</td>\n",
       "      <td>grund</td>\n",
       "      <td>arbejdsmarkedet</td>\n",
       "      <td>produktion</td>\n",
       "      <td>spørgsmålet</td>\n",
       "      <td>ekstra</td>\n",
       "      <td>afvise</td>\n",
       "      <td>finansministeren</td>\n",
       "      <td>andersen</td>\n",
       "      <td>arne</td>\n",
       "      <td>grad</td>\n",
       "      <td>lad</td>\n",
       "      <td>imidlertid</td>\n",
       "      <td>investeringer</td>\n",
       "      <td>muligt</td>\n",
       "      <td>konkret</td>\n",
       "      <td>meddelelser</td>\n",
       "      <td>spørge</td>\n",
       "      <td>valg</td>\n",
       "    </tr>\n",
       "    <tr>\n",
       "      <th>topic6</th>\n",
       "      <td>takke</td>\n",
       "      <td>ophæve</td>\n",
       "      <td>maigaard</td>\n",
       "      <td>findes</td>\n",
       "      <td>daværende</td>\n",
       "      <td>toft</td>\n",
       "      <td>spm</td>\n",
       "      <td>straffelov</td>\n",
       "      <td>tillægsbetænkningen</td>\n",
       "      <td>grete</td>\n",
       "      <td>bendix</td>\n",
       "      <td>hanne</td>\n",
       "      <td>skaffe</td>\n",
       "      <td>gudme</td>\n",
       "      <td>foged</td>\n",
       "      <td>inflationen</td>\n",
       "      <td>glistrup</td>\n",
       "      <td>fri</td>\n",
       "      <td>kastrup</td>\n",
       "      <td>fremsættelsen</td>\n",
       "    </tr>\n",
       "    <tr>\n",
       "      <th>topic7</th>\n",
       "      <td>findes</td>\n",
       "      <td>revision</td>\n",
       "      <td>økonomi</td>\n",
       "      <td>norge</td>\n",
       "      <td>udvalg</td>\n",
       "      <td>hår</td>\n",
       "      <td>fremsat</td>\n",
       "      <td>budgetministeren</td>\n",
       "      <td>or</td>\n",
       "      <td>sigsgaard</td>\n",
       "      <td>lysholt</td>\n",
       "      <td>aksel</td>\n",
       "      <td>guldberg</td>\n",
       "      <td>såkaldte</td>\n",
       "      <td>usa</td>\n",
       "      <td>fremsættelsen</td>\n",
       "      <td>oplysninger</td>\n",
       "      <td>børne</td>\n",
       "      <td>niels</td>\n",
       "      <td>kjær</td>\n",
       "    </tr>\n",
       "    <tr>\n",
       "      <th>topic8</th>\n",
       "      <td>dr</td>\n",
       "      <td>retsforbundet</td>\n",
       "      <td>dansk</td>\n",
       "      <td>besvarede</td>\n",
       "      <td>melchior</td>\n",
       "      <td>konservative</td>\n",
       "      <td>begrundelse</td>\n",
       "      <td>rv</td>\n",
       "      <td>afgifter</td>\n",
       "      <td>kristeligt</td>\n",
       "      <td>fremskridtspartiets</td>\n",
       "      <td>regeringen</td>\n",
       "      <td>alfred</td>\n",
       "      <td>stemte</td>\n",
       "      <td>krf</td>\n",
       "      <td>dkp</td>\n",
       "      <td>poulsen</td>\n",
       "      <td>fald</td>\n",
       "      <td>økonomiske</td>\n",
       "      <td>stemme</td>\n",
       "    </tr>\n",
       "    <tr>\n",
       "      <th>topic9</th>\n",
       "      <td>forlig</td>\n",
       "      <td>forkastedes</td>\n",
       "      <td>socialdemokratiet</td>\n",
       "      <td>kirsten</td>\n",
       "      <td>glensgård</td>\n",
       "      <td>kommunisterne</td>\n",
       "      <td>kaj</td>\n",
       "      <td>stemmer</td>\n",
       "      <td>schmidt</td>\n",
       "      <td>demokraterne</td>\n",
       "      <td>tale</td>\n",
       "      <td>jespersen</td>\n",
       "      <td>freddy</td>\n",
       "      <td>april</td>\n",
       "      <td>folke</td>\n",
       "      <td>svar</td>\n",
       "      <td>stemte</td>\n",
       "      <td>arbejdsløse</td>\n",
       "      <td>ordføreren</td>\n",
       "      <td>beskæftigelsen</td>\n",
       "    </tr>\n",
       "  </tbody>\n",
       "</table>\n",
       "</div>"
      ],
      "text/plain": [
       "              word20         word21                word22           word23  \\\n",
       "topic0       områder         særlig                  mill            grund   \n",
       "topic1         giver          bedre                   eks        formanden   \n",
       "topic2      egentlig         gælder       statsministeren            alene   \n",
       "topic3       samlede      mennesker  folketingsbeslutning       afstemning   \n",
       "topic4     medlemmer         engang               løsning         positive   \n",
       "topic5  overvejelser         drejer                 grund  arbejdsmarkedet   \n",
       "topic6         takke         ophæve              maigaard           findes   \n",
       "topic7        findes       revision               økonomi            norge   \n",
       "topic8            dr  retsforbundet                 dansk        besvarede   \n",
       "topic9        forlig    forkastedes     socialdemokratiet          kirsten   \n",
       "\n",
       "                  word24         word25       word26            word27  \\\n",
       "topic0              enig         større       drejer             visse   \n",
       "topic1             lande          dansk       regler          rimeligt   \n",
       "topic2               beh       stilling        debat          radikale   \n",
       "topic3  foranstaltninger         fundet         fald           retning   \n",
       "topic4          jakobsen     yderligere     såkaldte              land   \n",
       "topic5        produktion    spørgsmålet       ekstra            afvise   \n",
       "topic6         daværende           toft          spm        straffelov   \n",
       "topic7            udvalg            hår      fremsat  budgetministeren   \n",
       "topic8          melchior   konservative  begrundelse                rv   \n",
       "topic9         glensgård  kommunisterne          kaj           stemmer   \n",
       "\n",
       "                     word28        word29               word30      word31  \\\n",
       "topic0               hensyn          grad           nødvendigt  lovgivning   \n",
       "topic1             vedtaget       direkte                 folk      hermed   \n",
       "topic2          regeringens     økonomisk              problem       enige   \n",
       "topic3              henvise     betydelig               sattes     samfund   \n",
       "topic4               rammer      henvises           lovforslag    udtræder   \n",
       "topic5     finansministeren      andersen                 arne        grad   \n",
       "topic6  tillægsbetænkningen         grete               bendix       hanne   \n",
       "topic7                   or     sigsgaard              lysholt       aksel   \n",
       "topic8             afgifter    kristeligt  fremskridtspartiets  regeringen   \n",
       "topic9              schmidt  demokraterne                 tale   jespersen   \n",
       "\n",
       "                  word32              word33         word34         word35  \\\n",
       "topic0                kr        folketingets         tredje      ændringer   \n",
       "topic1             sagen              støtte           svar          følge   \n",
       "topic2            hansen              møller      vurdering        endelig   \n",
       "topic3  socialministeren  socialdemokratiske        rimelig          næste   \n",
       "topic4       oplysninger              hjælpe           ninn           glad   \n",
       "topic5               lad          imidlertid  investeringer         muligt   \n",
       "topic6            skaffe               gudme          foged    inflationen   \n",
       "topic7          guldberg            såkaldte            usa  fremsættelsen   \n",
       "topic8            alfred              stemte            krf            dkp   \n",
       "topic9            freddy               april          folke           svar   \n",
       "\n",
       "             word36       word37      word38           word39  \n",
       "topic0        store       udvalg   spørgsmål          sociale  \n",
       "topic1        sikre     baggrund      medlem            håber  \n",
       "topic2         sket       betale  gennemføre         politisk  \n",
       "topic3          års    foreslået      fælles  udvalgsarbejdet  \n",
       "topic4  bjerregaard         mill     indgreb           august  \n",
       "topic5      konkret  meddelelser      spørge             valg  \n",
       "topic6     glistrup          fri     kastrup    fremsættelsen  \n",
       "topic7  oplysninger        børne       niels             kjær  \n",
       "topic8      poulsen         fald  økonomiske           stemme  \n",
       "topic9       stemte  arbejdsløse  ordføreren   beskæftigelsen  "
      ]
     },
     "execution_count": 12,
     "metadata": {},
     "output_type": "execute_result"
    }
   ],
   "source": [
    "model_70.topics.iloc[:, 20:40]"
   ]
  },
  {
   "cell_type": "markdown",
   "id": "51e645aa-df57-41ff-ac05-497579ada446",
   "metadata": {},
   "source": [
    "Dariah biblioteket tilbyder forskellige andre visualiseringer ( se videre nedenfor ).\n",
    "\n",
    "Prøv at forhold dig til resultaterne.\n",
    "\n",
    "Giver det mening af bruge Topic Models til at få et tematisk indblik i kilderne?\n",
    "\n",
    "Hvilke grafer fungerer bedst?    "
   ]
  },
  {
   "cell_type": "code",
   "execution_count": 13,
   "id": "d3197fcc-06e7-400a-8989-554aa3ac2481",
   "metadata": {},
   "outputs": [
    {
     "data": {
      "text/plain": [
       "<AxesSubplot:>"
      ]
     },
     "execution_count": 13,
     "metadata": {},
     "output_type": "execute_result"
    },
    {
     "data": {
      "image/png": "[encoded data removed]",
      "text/plain": [
       "<Figure size 432x288 with 2 Axes>"
      ]
     },
     "metadata": {
      "needs_background": "light"
     },
     "output_type": "display_data"
    }
   ],
   "source": [
    "vis_60.topic_document()"
   ]
  },
  {
   "cell_type": "code",
   "execution_count": 14,
   "id": "53988977-bb4f-41cc-b3b1-61eacf648766",
   "metadata": {},
   "outputs": [
    {
     "data": {
      "text/plain": [
       "<AxesSubplot:>"
      ]
     },
     "execution_count": 14,
     "metadata": {},
     "output_type": "execute_result"
    },
    {
     "data": {
      "image/png": "[encoded data removed]",
      "text/plain": [
       "<Figure size 432x288 with 2 Axes>"
      ]
     },
     "metadata": {
      "needs_background": "light"
     },
     "output_type": "display_data"
    }
   ],
   "source": [
    "vis_70.topic_document()"
   ]
  },
  {
   "cell_type": "code",
   "execution_count": 17,
   "id": "58bf7f1f-0c73-4de1-ad7c-26b868d49c0f",
   "metadata": {},
   "outputs": [
    {
     "data": {
      "image/png": "[encoded data removed]",
      "text/plain": [
       "<Figure size 432x288 with 2 Axes>"
      ]
     },
     "metadata": {
      "needs_background": "light"
     },
     "output_type": "display_data"
    }
   ],
   "source": [
    "vis_60.topic_word(words=[\"krise\", \"solidarisk\", \"udsatte\", \"ulighed\", \"fattige\"])"
   ]
  },
  {
   "cell_type": "code",
   "execution_count": 28,
   "id": "76862315-fde3-481f-93dc-708f762ae535",
   "metadata": {},
   "outputs": [
    {
     "data": {
      "image/png": "[encoded data removed]",
      "text/plain": [
       "<Figure size 432x288 with 2 Axes>"
      ]
     },
     "metadata": {
      "needs_background": "light"
     },
     "output_type": "display_data"
    }
   ],
   "source": [
    "vis_70.topic_word(words=[\"krise\", \"solidarisk\", \"udsatte\", \"ulighed\", \"fattige\"])"
   ]
  },
  {
   "cell_type": "code",
   "execution_count": 20,
   "id": "df792425-e0b1-4412-a2f6-84a82ec402af",
   "metadata": {},
   "outputs": [
    {
     "data": {
      "text/html": [
       "<div>\n",
       "<style scoped>\n",
       "    .dataframe tbody tr th:only-of-type {\n",
       "        vertical-align: middle;\n",
       "    }\n",
       "\n",
       "    .dataframe tbody tr th {\n",
       "        vertical-align: top;\n",
       "    }\n",
       "\n",
       "    .dataframe thead th {\n",
       "        text-align: right;\n",
       "    }\n",
       "</style>\n",
       "<table border=\"1\" class=\"dataframe\">\n",
       "  <thead>\n",
       "    <tr style=\"text-align: right;\">\n",
       "      <th></th>\n",
       "      <th>a,f</th>\n",
       "      <th>a,t</th>\n",
       "      <th>a.t</th>\n",
       "      <th>aage</th>\n",
       "      <th>aalborg</th>\n",
       "      <th>ab</th>\n",
       "      <th>abningsdebat</th>\n",
       "      <th>abort</th>\n",
       "      <th>aborter</th>\n",
       "      <th>abortindgreb</th>\n",
       "    </tr>\n",
       "  </thead>\n",
       "  <tbody>\n",
       "    <tr>\n",
       "      <th>topic0</th>\n",
       "      <td>3.854352e-08</td>\n",
       "      <td>8.097993e-05</td>\n",
       "      <td>3.854352e-08</td>\n",
       "      <td>3.854352e-08</td>\n",
       "      <td>3.854352e-08</td>\n",
       "      <td>3.854352e-08</td>\n",
       "      <td>3.854352e-08</td>\n",
       "      <td>3.854352e-08</td>\n",
       "      <td>3.854352e-08</td>\n",
       "      <td>3.854352e-08</td>\n",
       "    </tr>\n",
       "    <tr>\n",
       "      <th>topic1</th>\n",
       "      <td>9.691143e-08</td>\n",
       "      <td>9.691143e-08</td>\n",
       "      <td>9.691143e-08</td>\n",
       "      <td>9.691143e-08</td>\n",
       "      <td>9.691143e-08</td>\n",
       "      <td>9.691143e-08</td>\n",
       "      <td>4.855263e-05</td>\n",
       "      <td>9.691143e-08</td>\n",
       "      <td>9.691143e-08</td>\n",
       "      <td>9.691143e-08</td>\n",
       "    </tr>\n",
       "    <tr>\n",
       "      <th>topic2</th>\n",
       "      <td>7.597618e-04</td>\n",
       "      <td>3.996643e-07</td>\n",
       "      <td>3.996643e-07</td>\n",
       "      <td>3.996643e-07</td>\n",
       "      <td>3.996643e-07</td>\n",
       "      <td>3.996643e-07</td>\n",
       "      <td>3.996643e-07</td>\n",
       "      <td>8.796611e-04</td>\n",
       "      <td>3.996643e-07</td>\n",
       "      <td>8.033252e-05</td>\n",
       "    </tr>\n",
       "    <tr>\n",
       "      <th>topic3</th>\n",
       "      <td>1.050299e-07</td>\n",
       "      <td>5.261997e-05</td>\n",
       "      <td>1.050299e-07</td>\n",
       "      <td>1.050299e-07</td>\n",
       "      <td>5.261997e-05</td>\n",
       "      <td>1.050299e-07</td>\n",
       "      <td>1.050299e-07</td>\n",
       "      <td>1.050299e-07</td>\n",
       "      <td>1.050299e-07</td>\n",
       "      <td>1.050299e-07</td>\n",
       "    </tr>\n",
       "    <tr>\n",
       "      <th>topic4</th>\n",
       "      <td>2.245475e-07</td>\n",
       "      <td>2.245475e-07</td>\n",
       "      <td>2.245475e-07</td>\n",
       "      <td>2.155881e-03</td>\n",
       "      <td>2.245475e-07</td>\n",
       "      <td>2.245475e-07</td>\n",
       "      <td>2.245475e-07</td>\n",
       "      <td>2.245475e-07</td>\n",
       "      <td>2.245475e-07</td>\n",
       "      <td>2.245475e-07</td>\n",
       "    </tr>\n",
       "    <tr>\n",
       "      <th>topic5</th>\n",
       "      <td>1.316084e-07</td>\n",
       "      <td>1.316084e-07</td>\n",
       "      <td>1.316084e-07</td>\n",
       "      <td>1.316084e-07</td>\n",
       "      <td>1.316084e-07</td>\n",
       "      <td>1.316084e-07</td>\n",
       "      <td>1.316084e-07</td>\n",
       "      <td>1.316084e-07</td>\n",
       "      <td>1.316084e-07</td>\n",
       "      <td>1.316084e-07</td>\n",
       "    </tr>\n",
       "    <tr>\n",
       "      <th>topic6</th>\n",
       "      <td>2.472077e-04</td>\n",
       "      <td>1.764509e-07</td>\n",
       "      <td>1.060470e-04</td>\n",
       "      <td>1.764509e-07</td>\n",
       "      <td>1.764509e-07</td>\n",
       "      <td>1.764509e-07</td>\n",
       "      <td>1.782154e-05</td>\n",
       "      <td>1.764509e-07</td>\n",
       "      <td>1.764509e-07</td>\n",
       "      <td>1.764509e-07</td>\n",
       "    </tr>\n",
       "    <tr>\n",
       "      <th>topic7</th>\n",
       "      <td>1.909381e-07</td>\n",
       "      <td>1.909381e-07</td>\n",
       "      <td>1.909381e-07</td>\n",
       "      <td>1.909381e-07</td>\n",
       "      <td>1.909381e-07</td>\n",
       "      <td>1.909381e-07</td>\n",
       "      <td>1.909381e-07</td>\n",
       "      <td>1.909381e-07</td>\n",
       "      <td>1.909381e-07</td>\n",
       "      <td>1.909381e-07</td>\n",
       "    </tr>\n",
       "    <tr>\n",
       "      <th>topic8</th>\n",
       "      <td>1.878358e-07</td>\n",
       "      <td>1.878358e-07</td>\n",
       "      <td>1.878358e-07</td>\n",
       "      <td>1.878358e-07</td>\n",
       "      <td>1.878358e-07</td>\n",
       "      <td>1.692400e-04</td>\n",
       "      <td>1.878358e-07</td>\n",
       "      <td>1.878358e-07</td>\n",
       "      <td>1.878358e-07</td>\n",
       "      <td>1.878358e-07</td>\n",
       "    </tr>\n",
       "    <tr>\n",
       "      <th>topic9</th>\n",
       "      <td>4.846840e-07</td>\n",
       "      <td>4.846840e-07</td>\n",
       "      <td>4.846840e-07</td>\n",
       "      <td>4.846840e-07</td>\n",
       "      <td>4.846840e-07</td>\n",
       "      <td>4.846840e-07</td>\n",
       "      <td>4.846840e-07</td>\n",
       "      <td>4.851687e-04</td>\n",
       "      <td>3.882319e-04</td>\n",
       "      <td>4.846840e-07</td>\n",
       "    </tr>\n",
       "  </tbody>\n",
       "</table>\n",
       "</div>"
      ],
      "text/plain": [
       "                 a,f           a,t           a.t          aage       aalborg  \\\n",
       "topic0  3.854352e-08  8.097993e-05  3.854352e-08  3.854352e-08  3.854352e-08   \n",
       "topic1  9.691143e-08  9.691143e-08  9.691143e-08  9.691143e-08  9.691143e-08   \n",
       "topic2  7.597618e-04  3.996643e-07  3.996643e-07  3.996643e-07  3.996643e-07   \n",
       "topic3  1.050299e-07  5.261997e-05  1.050299e-07  1.050299e-07  5.261997e-05   \n",
       "topic4  2.245475e-07  2.245475e-07  2.245475e-07  2.155881e-03  2.245475e-07   \n",
       "topic5  1.316084e-07  1.316084e-07  1.316084e-07  1.316084e-07  1.316084e-07   \n",
       "topic6  2.472077e-04  1.764509e-07  1.060470e-04  1.764509e-07  1.764509e-07   \n",
       "topic7  1.909381e-07  1.909381e-07  1.909381e-07  1.909381e-07  1.909381e-07   \n",
       "topic8  1.878358e-07  1.878358e-07  1.878358e-07  1.878358e-07  1.878358e-07   \n",
       "topic9  4.846840e-07  4.846840e-07  4.846840e-07  4.846840e-07  4.846840e-07   \n",
       "\n",
       "                  ab  abningsdebat         abort       aborter  abortindgreb  \n",
       "topic0  3.854352e-08  3.854352e-08  3.854352e-08  3.854352e-08  3.854352e-08  \n",
       "topic1  9.691143e-08  4.855263e-05  9.691143e-08  9.691143e-08  9.691143e-08  \n",
       "topic2  3.996643e-07  3.996643e-07  8.796611e-04  3.996643e-07  8.033252e-05  \n",
       "topic3  1.050299e-07  1.050299e-07  1.050299e-07  1.050299e-07  1.050299e-07  \n",
       "topic4  2.245475e-07  2.245475e-07  2.245475e-07  2.245475e-07  2.245475e-07  \n",
       "topic5  1.316084e-07  1.316084e-07  1.316084e-07  1.316084e-07  1.316084e-07  \n",
       "topic6  1.764509e-07  1.782154e-05  1.764509e-07  1.764509e-07  1.764509e-07  \n",
       "topic7  1.909381e-07  1.909381e-07  1.909381e-07  1.909381e-07  1.909381e-07  \n",
       "topic8  1.692400e-04  1.878358e-07  1.878358e-07  1.878358e-07  1.878358e-07  \n",
       "topic9  4.846840e-07  4.846840e-07  4.851687e-04  3.882319e-04  4.846840e-07  "
      ]
     },
     "execution_count": 20,
     "metadata": {},
     "output_type": "execute_result"
    }
   ],
   "source": [
    "model_60.topic_word.iloc[:, :10]"
   ]
  },
  {
   "cell_type": "code",
   "execution_count": 25,
   "id": "fef9de63-f373-4099-b4bd-0517df49930b",
   "metadata": {},
   "outputs": [
    {
     "data": {
      "text/plain": [
       "<AxesSubplot:>"
      ]
     },
     "execution_count": 25,
     "metadata": {},
     "output_type": "execute_result"
    },
    {
     "data": {
      "image/png": "[encoded data removed]",
      "text/plain": [
       "<Figure size 432x288 with 1 Axes>"
      ]
     },
     "metadata": {
      "needs_background": "light"
     },
     "output_type": "display_data"
    }
   ],
   "source": [
    "vis_60.document('19691')"
   ]
  },
  {
   "cell_type": "code",
   "execution_count": 26,
   "id": "d899e05c-ccfd-4044-8b89-7519c8b1ba10",
   "metadata": {},
   "outputs": [
    {
     "data": {
      "text/plain": [
       "<AxesSubplot:>"
      ]
     },
     "execution_count": 26,
     "metadata": {},
     "output_type": "execute_result"
    },
    {
     "data": {
      "image/png": "[encoded data removed]",
      "text/plain": [
       "<Figure size 432x288 with 1 Axes>"
      ]
     },
     "metadata": {
      "needs_background": "light"
     },
     "output_type": "display_data"
    }
   ],
   "source": [
    "vis_60.topic(\"topic0\")"
   ]
  },
  {
   "cell_type": "code",
   "execution_count": 30,
   "id": "50c6b9da-8cca-4f3b-a89c-80ebc89d3e2c",
   "metadata": {},
   "outputs": [
    {
     "data": {
      "text/plain": [
       "<AxesSubplot:>"
      ]
     },
     "execution_count": 30,
     "metadata": {},
     "output_type": "execute_result"
    },
    {
     "data": {
      "image/png": "[encoded data removed]",
      "text/plain": [
       "<Figure size 432x288 with 1 Axes>"
      ]
     },
     "metadata": {
      "needs_background": "light"
     },
     "output_type": "display_data"
    }
   ],
   "source": [
    "vis_70.topic(\"topic1\")"
   ]
  },
  {
   "cell_type": "code",
   "execution_count": 31,
   "id": "1e13d835-793d-474a-983e-9a44923864df",
   "metadata": {},
   "outputs": [
    {
     "data": {
      "text/plain": [
       "<AxesSubplot:>"
      ]
     },
     "execution_count": 31,
     "metadata": {},
     "output_type": "execute_result"
    },
    {
     "data": {
      "image/png": "[encoded data removed]",
      "text/plain": [
       "<Figure size 432x288 with 1 Axes>"
      ]
     },
     "metadata": {
      "needs_background": "light"
     },
     "output_type": "display_data"
    }
   ],
   "source": [
    "vis_70.topic(\"topic4\")"
   ]
  },
  {
   "cell_type": "code",
   "execution_count": null,
   "id": "1fc83a2a-9b7a-480a-8e47-7e0d1b04d782",
   "metadata": {},
   "outputs": [],
   "source": []
  }
 ],
 "metadata": {
  "kernelspec": {
   "display_name": "Python 3 ",
   "language": "python",
   "name": "python3"
  },
  "language_info": {
   "codemirror_mode": {
    "name": "ipython",
    "version": 3
   },
   "file_extension": ".py",
   "mimetype": "text/x-python",
   "name": "python",
   "nbconvert_exporter": "python",
   "pygments_lexer": "ipython3",
   "version": "3.9.6"
  }
 },
 "nbformat": 4,
 "nbformat_minor": 5
}
