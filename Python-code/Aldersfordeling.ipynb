{
 "cells": [
  {
   "cell_type": "code",
   "execution_count": null,
   "metadata": {},
   "outputs": [],
   "source": [
    "import pandas as pd\n",
    "import numpy as np\n",
    "import seaborn as sns\n",
    "from matplotlib import pyplot as plt\n",
    "import os\n",
    "%matplotlib inline\n",
    "%config InlineBackend.figure_format = 'svg' \n",
    "sns.set()"
   ]
  },
  {
   "cell_type": "markdown",
   "metadata": {},
   "source": [
    "# Aldersfordeling\n",
    "I datasæt 2 eksisterer der en kolonne, der hedder 'Age'. Kolonnen indeholder oplysninger om folketingsmedlemmernes alder. Med udgangspunkt i folketingsmedlemmernes alder kan vi undersøge, hvordan aldersfordelingen er inden for forskellige partier, inden for forskellige samlinger og hvordan aldersfordelingen er i relation til de forskellige emner, som bliver behandlet. \n",
    "\n",
    "Nedenfor findes forskellige forslag til, hvordan dette kan foregå. Meningen er, at I med udgangspunkt i notebooken kan besvare spørgsmål i relation til alder, og at I ved at ændre lidt i koden ville kunne finde svar på andre spørgsmål, som I måtte have.  "
   ]
  },
  {
   "cell_type": "markdown",
   "metadata": {},
   "source": [
    "# Find frem til data"
   ]
  },
  {
   "cell_type": "markdown",
   "metadata": {},
   "source": [
    "Modulet 'os' giver forskellige muligheder for at bevæge sig rundt på stier mellem mapper og tjekke indholdet i mapper. Vi bruger biblioteket til at finde frem til den mappe, hvor datasæt 2 findes."
   ]
  },
  {
   "cell_type": "code",
   "execution_count": null,
   "metadata": {},
   "outputs": [],
   "source": [
    "os.getcwd()"
   ]
  },
  {
   "cell_type": "code",
   "execution_count": null,
   "metadata": {},
   "outputs": [],
   "source": [
    "os.chdir('/work')"
   ]
  },
  {
   "cell_type": "code",
   "execution_count": null,
   "metadata": {},
   "outputs": [],
   "source": [
    "os.listdir()"
   ]
  },
  {
   "cell_type": "markdown",
   "metadata": {},
   "source": [
    "# Indlæs data."
   ]
  },
  {
   "cell_type": "code",
   "execution_count": null,
   "metadata": {
    "tags": []
   },
   "outputs": [],
   "source": [
    "df = pd.read_pickle('Common-files/Data/Datasæt2/whole_set/whole_set.pkl')"
   ]
  },
  {
   "cell_type": "markdown",
   "metadata": {},
   "source": [
    "Vi kan se, hvilke kolonner datasættes udgøres af vha. df.head()"
   ]
  },
  {
   "cell_type": "code",
   "execution_count": null,
   "metadata": {},
   "outputs": [],
   "source": [
    "df.head()"
   ]
  },
  {
   "cell_type": "markdown",
   "metadata": {},
   "source": [
    "Nogle af datasættets kolonner består af tal, som vi kan opsummere statistisk vha. metoden .describe().\n",
    "\n",
    "Kolonnen 'Age' er en af dem, og når vi skal undersøge aldersfordelingen er det den, som vi skal kigge nærmere på.\n",
    "\n",
    "Læs mere her: https://pandas.pydata.org/pandas-docs/stable/reference/api/pandas.DataFrame.describe.html"
   ]
  },
  {
   "cell_type": "code",
   "execution_count": null,
   "metadata": {
    "tags": []
   },
   "outputs": [],
   "source": [
    "df['Age'].describe()"
   ]
  },
  {
   "cell_type": "markdown",
   "metadata": {},
   "source": [
    "I år med folketingsvalg består et år af to samlinger. Det bliver vigtigt, hvis vi skal se nærmere på aldersfordlingen blandt de politikere, der er på talerstolen i folketinget. \n",
    "\n",
    "Vi bruge .value_counts til at undersøge, hvor mange forskellige samlinger datasættet rummer og hvor mange taler, der er knyttet til hver samling.   "
   ]
  },
  {
   "cell_type": "code",
   "execution_count": null,
   "metadata": {
    "tags": []
   },
   "outputs": [],
   "source": [
    "df['Session'].value_counts()"
   ]
  },
  {
   "cell_type": "markdown",
   "metadata": {},
   "source": [
    "# Aldersfordelingen inden for en udvalgt samling"
   ]
  },
  {
   "cell_type": "markdown",
   "metadata": {},
   "source": [
    "Vi kan besvare spørgsmålet, hvordan er aldersfordelingen blandt de politikere, der har været på talerstolen inden for en udvalgt samling?\n",
    "\n",
    "I første linje gemmer vi en samling, f.eks. 20101 i variablen session.\n",
    "\n",
    "I anden linje vælger vi at lave en ny dataframe, der består af alle rækker, der indeholder den samling, som vi har udvalgt.\n",
    "\n",
    "I tredje linje grupper vi data efter alder og vi tæller antallet af unikke navne sammen.\n",
    "\n",
    "I fjerde linje plotter vi alder på x-aksen og på y-aksen plotter vi antallet.  "
   ]
  },
  {
   "cell_type": "code",
   "execution_count": null,
   "metadata": {
    "tags": []
   },
   "outputs": [],
   "source": [
    "session = '20101'\n",
    "df_select_session = df[df['Session'] == session]\n",
    "age_dist = df_select_session.groupby('Age')['Name'].nunique()\n",
    "age_dist.plot(kind='bar', figsize=(10, 10), title='Aldersfordeling i samling ' + session)"
   ]
  },
  {
   "cell_type": "markdown",
   "metadata": {},
   "source": [
    "# Aldersfordelingen inden for en samling år grupperet i femårsinterval "
   ]
  },
  {
   "cell_type": "markdown",
   "metadata": {},
   "source": [
    "Koden neden for minder om koden ovenfor. Der er en lille forskel. Vi bruger .cut til at opdele kolonnen 'Age'. Kolonnen bliver opdelt i et antal 'bins'. 'Bins' er i dette tilfælde en liste med tal i et interval af 5 fra 20 til 75 + 5. Det betyder, at kolonnen alder bliver opdelt i aldersgrupper af 5 år.    "
   ]
  },
  {
   "cell_type": "code",
   "execution_count": null,
   "metadata": {
    "tags": []
   },
   "outputs": [],
   "source": [
    "session = '20101'\n",
    "df_select_session = df[df['Session'] == session]\n",
    "age_groups = pd.cut(df_select_session['Age'], bins=list(range(20,75+5,5)))\n",
    "age_group_dist = df_select_session.groupby(age_groups)['Name'].nunique()"
   ]
  },
  {
   "cell_type": "code",
   "execution_count": null,
   "metadata": {
    "tags": []
   },
   "outputs": [],
   "source": [
    "age_group_dist.plot(kind='bar', figsize=(10, 10), title='Aldersfordeling i samling ' + session + ' fordelt i grupper')"
   ]
  },
  {
   "cell_type": "markdown",
   "metadata": {},
   "source": [
    "# Aldersfordelingen inden for en samling inden for ét parti"
   ]
  },
  {
   "cell_type": "markdown",
   "metadata": {},
   "source": [
    "Vi kan besvare spørgsmålet, hvordan er aldersfordelingen inden for en samling inden for et udvalgt parti?"
   ]
  },
  {
   "cell_type": "markdown",
   "metadata": {},
   "source": [
    "I koden nedenfor besvarer vi ovenstående sprøgsmål. \n",
    "I første linje gemmer vi navnet på en samling og i anden linje gemmer vi navnet på et parti.\n",
    "I tredje linje og fjerde linje bygger vi en dataframe, der indeholder de rækker, der indeholder de data vi har defineret i linje 1 og 2.\n",
    "I femte linje laver vi 'cut og bins' som i koden ovenfor.\n",
    "I sjette linje laver vi grupperingen og sammmentællingen og i linjen i næste felt plotter vi data."
   ]
  },
  {
   "cell_type": "code",
   "execution_count": null,
   "metadata": {
    "tags": []
   },
   "outputs": [],
   "source": [
    "session = \"20101\"\n",
    "party = 'KF'\n",
    "df_select_session = df[df['Session'] == session]\n",
    "df_select_party = df_select_session[df_select_session['Party'] ==  party]\n",
    "age_groups = pd.cut(df_select_party['Age'], bins=list(range(20,75+5,5)))\n",
    "age_group_dist = df_select_party.groupby(age_groups)['Name'].nunique()"
   ]
  },
  {
   "cell_type": "code",
   "execution_count": null,
   "metadata": {
    "tags": []
   },
   "outputs": [],
   "source": [
    "age_group_dist.plot(kind='bar', figsize=(10, 10), title='Aldersfordeling i samling ' + session + ' i ' + party + ' fordelt i grupper')"
   ]
  },
  {
   "cell_type": "markdown",
   "metadata": {},
   "source": [
    "# Aldersfordeling blandt mænd og kvinder inden for en samling\n",
    "\n",
    "Vi kan besvare spørgsmålet, hvordan er aldersfordeling blandt de mænd og kvinder, der har været på talerstolen inden for en samling?"
   ]
  },
  {
   "cell_type": "markdown",
   "metadata": {},
   "source": [
    "Nedenfor følger tre forskellige plots:\n",
    "\n",
    "- Det første plot handler om aldersfordelingen for mænd inden for en udvalgt samling og inden for et udvalgt parti.\n",
    "\n",
    "- Det andet plot handler om aldersfordelingen for kvinder inden for en udvalgt samling og inden for et udvalgt parti.\n",
    "\n",
    "- Det trejde plot handler om aldersfordeling blandt mænd og kvinder inden for en samling."
   ]
  },
  {
   "cell_type": "code",
   "execution_count": null,
   "metadata": {
    "tags": []
   },
   "outputs": [],
   "source": [
    "session = '20101'\n",
    "df_select_session = df[df['Session'] == session]\n",
    "df_year_male = df_select_session[df_select_session['Gender'] == 'Male']\n",
    "df_year_female = df_select_session[df_select_session['Gender'] == 'Female']\n",
    "age_groups_male = pd.cut(df_year_male['Age'], bins=list(range(20,75+5,5)))\n",
    "age_groups_female = pd.cut(df_year_female['Age'], bins=list(range(20,75+5,5)))\n",
    "age_group_dist_male = df_year_male.groupby(age_groups_male)['Name'].nunique()\n",
    "age_group_dist_female = df_year_female.groupby(age_groups_female)['Name'].nunique()"
   ]
  },
  {
   "cell_type": "code",
   "execution_count": null,
   "metadata": {
    "tags": []
   },
   "outputs": [],
   "source": [
    "age_group_dist_male.plot(kind='bar', figsize=(10, 10), title='Aldersfordeling blandt mænd i samling ' + session)"
   ]
  },
  {
   "cell_type": "code",
   "execution_count": null,
   "metadata": {
    "tags": []
   },
   "outputs": [],
   "source": [
    "age_group_dist_female.plot(kind='bar', figsize=(10, 10), title='Aldersfordeling blandt kvinder i samling ' + session)"
   ]
  },
  {
   "cell_type": "code",
   "execution_count": null,
   "metadata": {
    "tags": []
   },
   "outputs": [],
   "source": [
    "age =  ['20-25', '25-30', '30-35', '35-40', '40-45', '45-50', '50-55', '55-60', '60-65', '65-70', '70-75']\n",
    "male = -age_group_dist_male.values # de numeriske værdier bliver negative med -frame\n",
    "female = age_group_dist_female.values\n",
    "\n",
    "df_pyramide = pd.DataFrame({'Age' : age,\n",
    "                             'Male' : male,\n",
    "                             'Female' : female})"
   ]
  },
  {
   "cell_type": "code",
   "execution_count": null,
   "metadata": {
    "tags": []
   },
   "outputs": [],
   "source": [
    "AgeClass = ['70-75', '65-70', '60-65', '55-60', '50-55', '45-50', '40-45', '35-40', '30-35', '25-30', '20-25']\n",
    "bar_plot = sns.barplot(x='Male', y='Age', data=df_pyramide, order=AgeClass, lw=0, color = 'navy')\n",
    "bar_plot = sns.barplot(x='Female', y='Age', data=df_pyramide, order=AgeClass, lw=0 , color = 'indianred')\n",
    "bar_plot.set(xlabel='Mænd og kvinder', ylabel='Aldersgrupper', title = 'Aldersfordeling blandt mænd og kvinder i samling ' + session)"
   ]
  },
  {
   "cell_type": "markdown",
   "metadata": {},
   "source": [
    "# Aldersfordeling i relation til emner"
   ]
  },
  {
   "cell_type": "markdown",
   "metadata": {},
   "source": [
    "Vi kan besvare spørgsmålet, hvordan er aldersfordelingen i relation til de emner, som folketingsmedlemmerne taler om? "
   ]
  },
  {
   "cell_type": "markdown",
   "metadata": {},
   "source": [
    "Nedenfor er der to plots, der viser, hvordan alder relaterer sig til emner.\n",
    "\n",
    "Kig på de to plots og overvej, hvilket der egner sig bedst til at visualisere data."
   ]
  },
  {
   "cell_type": "code",
   "execution_count": null,
   "metadata": {
    "tags": []
   },
   "outputs": [],
   "source": [
    "age_subject1 = df.groupby(['Age','Subject 1']).sum()\n",
    "age_subject1.reset_index(inplace=True)\n",
    "age_subject1['Age group'] = pd.cut(age_subject1['Age'], bins=list(range(19,75+5,5)))\n",
    "\n",
    "sns.set(rc={\"figure.figsize\":(12, 15)}) #width, height\n",
    "sns.histplot(data=age_subject1, x=\"Age\", bins=10, hue=\"Subject 1\", multiple=\"stack\")"
   ]
  },
  {
   "cell_type": "code",
   "execution_count": null,
   "metadata": {
    "tags": []
   },
   "outputs": [],
   "source": [
    "sns.catplot(y=\"Age group\", x='Time', col=\"Subject 1\",\n",
    "                data=age_subject1, saturation=.5,\n",
    "                kind=\"bar\", orient='h' , ci=None, aspect=.6)"
   ]
  },
  {
   "cell_type": "markdown",
   "metadata": {},
   "source": [
    "Notebooken slutter her. Prøv at vælge andre samlinger og sammenlign resultaterne. Er der for eksempel en udvikling over tid i relation til aldersfordelingen i folketinget?"
   ]
  }
 ],
 "metadata": {
  "kernelspec": {
   "display_name": "Python 3 ",
   "language": "python",
   "name": "python3"
  },
  "language_info": {
   "codemirror_mode": {
    "name": "ipython",
    "version": 3
   },
   "file_extension": ".py",
   "mimetype": "text/x-python",
   "name": "python",
   "nbconvert_exporter": "python",
   "pygments_lexer": "ipython3",
   "version": "3.9.6"
  }
 },
 "nbformat": 4,
 "nbformat_minor": 4
}
